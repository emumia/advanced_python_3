{
 "cells": [
  {
   "cell_type": "code",
   "execution_count": 20,
   "id": "c58d605b",
   "metadata": {},
   "outputs": [
    {
     "name": "stdout",
     "output_type": "stream",
     "text": [
      "I am a Method\n"
     ]
    }
   ],
   "source": [
    "# Example 1\n",
    "class Myclass(object):\n",
    "    def show(self):\n",
    "        print(\"I am a Method\")\n",
    "\n",
    "x = Myclass()\n",
    "x.show()"
   ]
  },
  {
   "cell_type": "code",
   "execution_count": 22,
   "id": "9786d0ec",
   "metadata": {},
   "outputs": [
    {
     "name": "stdout",
     "output_type": "stream",
     "text": [
      "I am another method\n",
      "I am a Method\n"
     ]
    }
   ],
   "source": [
    "class Myclass1(object):\n",
    "    def show(self):\n",
    "        print(\"I am another method\")\n",
    "y = Myclass1()\n",
    "y.show()\n",
    "x.show()"
   ]
  },
  {
   "cell_type": "code",
   "execution_count": 24,
   "id": "fb6239e3",
   "metadata": {},
   "outputs": [
    {
     "name": "stdout",
     "output_type": "stream",
     "text": [
      "I am another 3rd method\n",
      "I am another method\n",
      "I am a Method\n"
     ]
    }
   ],
   "source": [
    "class Myclass2(object):\n",
    "    def show(self):\n",
    "        print(\"I am another 3rd method\")\n",
    "z = Myclass2()\n",
    "z.show()\n",
    "y.show()\n",
    "x.show()"
   ]
  },
  {
   "cell_type": "code",
   "execution_count": 30,
   "id": "0884b577",
   "metadata": {},
   "outputs": [
    {
     "name": "stdout",
     "output_type": "stream",
     "text": [
      "I am a Method\n"
     ]
    }
   ],
   "source": [
    "# Example 2\n",
    "class Myclass:\n",
    "    def show(self):\n",
    "        print(\"I am a Method\")\n",
    "\n",
    "x = Myclass()\n",
    "x.show()"
   ]
  },
  {
   "cell_type": "code",
   "execution_count": 25,
   "id": "bfc48269",
   "metadata": {},
   "outputs": [
    {
     "name": "stdout",
     "output_type": "stream",
     "text": [
      "I am a Method\n",
      "I am a Method\n"
     ]
    }
   ],
   "source": [
    "class Myclass:\n",
    "    def show(self):\n",
    "        print(\"I am a Method\")\n",
    "\n",
    "x = Myclass()\n",
    "x.show()\n",
    "z1=x\n",
    "z1.show()"
   ]
  },
  {
   "cell_type": "code",
   "execution_count": 26,
   "id": "c064eb24",
   "metadata": {},
   "outputs": [
    {
     "name": "stdout",
     "output_type": "stream",
     "text": [
      "RealMe z\n",
      "RealMe Pro2 new\n",
      "Model: RealMe Pro2 new\n"
     ]
    }
   ],
   "source": [
    "# Example 3\n",
    "class Mobile:\n",
    "    def __init__(self):\n",
    "        self.model = 'RealMe z'\n",
    "\n",
    "    def show_model(self):\n",
    "        print(\"Model:\", self.model)\n",
    "\n",
    "# Creating Object of Class\n",
    "realme = Mobile()\n",
    "\n",
    "# Accessing Variable from outside class\n",
    "print(realme.model)\n",
    "\n",
    "# Assign Variable a new value\n",
    "realme.model='RealMe Pro2 new'\n",
    "\n",
    "print(realme.model)\n",
    "\n",
    "# Accessing Method from outside class\n",
    "realme.show_model()"
   ]
  },
  {
   "cell_type": "code",
   "execution_count": 27,
   "id": "c127f150",
   "metadata": {},
   "outputs": [
    {
     "name": "stdout",
     "output_type": "stream",
     "text": [
      "Model: RealMe X and Price: 1500\n"
     ]
    }
   ],
   "source": [
    "# Example 4\n",
    "class Mobile:\n",
    "    def __init__(self):\n",
    "        self.model = 'RealMe X'\n",
    "    def show_model(self):\n",
    "        price = 1500                # Local Varaible\n",
    "        print(\"Model:\", self.model, \"and Price:\", price)\n",
    "\n",
    "realme = Mobile()\n",
    "\n",
    "# Accessing Method from outside Class\n",
    "realme.show_model()\n"
   ]
  },
  {
   "cell_type": "code",
   "execution_count": 28,
   "id": "add13b6c",
   "metadata": {},
   "outputs": [
    {
     "name": "stdout",
     "output_type": "stream",
     "text": [
      "Model: Realme X and Price: 1000\n"
     ]
    }
   ],
   "source": [
    "# Example 5\n",
    "class Mobile:\n",
    "     # Constructor\n",
    "    def __init__(self, m):\n",
    "        self.model = m\n",
    "\n",
    "    def show_model(self, p):\n",
    "        price = p                # Local Varaible\n",
    "        print(\"Model:\", self.model, \"and Price:\", price)\n",
    "\n",
    "# Passing Argument to Constructor\n",
    "realme = Mobile('Realme X')\n",
    "\n",
    "# Accessing Method from outside Class\n",
    "realme.show_model(1000)\n"
   ]
  },
  {
   "cell_type": "code",
   "execution_count": 31,
   "id": "b99bad27",
   "metadata": {},
   "outputs": [
    {
     "name": "stdout",
     "output_type": "stream",
     "text": [
      "Model: RealMe X and Price: 1000\n",
      "3086202769952\n",
      "Model: RealMe X and Price: 2000\n",
      "3086202770528\n",
      "Model: Redmi 7s and Price: 5000\n",
      "3086202770384\n",
      "Model: Python and Price: 49\n",
      "3086202770048\n"
     ]
    }
   ],
   "source": [
    "# Example 6 which has differet location for each call\n",
    "\n",
    "class Mobile:\n",
    "    # Constructor\n",
    "    def __init__(self, m):\n",
    "        self.model = m\n",
    "        \n",
    "    def show_model(self, p):\n",
    "        price = p\n",
    "        print(\"Model:\", self.model, \"and Price:\", price)\n",
    "\n",
    "realme = Mobile('RealMe X')\n",
    "realme.show_model(1000)\n",
    "print(id(realme))\n",
    "\n",
    "realme1 = Mobile('RealMe X')\n",
    "realme1.show_model(2000)\n",
    "print(id(realme1))\n",
    "\n",
    "redmi = Mobile('Redmi 7s')\n",
    "redmi.show_model(5000)\n",
    "print(id(redmi))\n",
    "\n",
    "geek = Mobile('Python')\n",
    "geek.show_model(49)\n",
    "print(id(geek))\n"
   ]
  },
  {
   "cell_type": "code",
   "execution_count": null,
   "id": "5aa8028d",
   "metadata": {},
   "outputs": [],
   "source": []
  }
 ],
 "metadata": {
  "kernelspec": {
   "display_name": "Python 3 (ipykernel)",
   "language": "python",
   "name": "python3"
  },
  "language_info": {
   "codemirror_mode": {
    "name": "ipython",
    "version": 3
   },
   "file_extension": ".py",
   "mimetype": "text/x-python",
   "name": "python",
   "nbconvert_exporter": "python",
   "pygments_lexer": "ipython3",
   "version": "3.9.13"
  }
 },
 "nbformat": 4,
 "nbformat_minor": 5
}
