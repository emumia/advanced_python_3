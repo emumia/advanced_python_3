{
 "cells": [
  {
   "cell_type": "code",
   "execution_count": 19,
   "id": "82fd3b78",
   "metadata": {},
   "outputs": [
    {
     "name": "stdout",
     "output_type": "stream",
     "text": [
      "<class '__main__.Mobile'>\n"
     ]
    }
   ],
   "source": [
    "#constructor\n",
    "class Mobile:\n",
    "    def __init__(self):\n",
    "        print(\"Mobile constructor has called\")\n",
    "        \n",
    "iphone=Mobile\n",
    "print(iphone)"
   ]
  },
  {
   "cell_type": "code",
   "execution_count": 20,
   "id": "45095bb8",
   "metadata": {},
   "outputs": [
    {
     "name": "stdout",
     "output_type": "stream",
     "text": [
      "Model of phone: iphone 14 pro\n"
     ]
    }
   ],
   "source": [
    "#constructor\n",
    "class Mobile:\n",
    "    #constructor without parameters\n",
    "    def __init__(self):\n",
    "        self.model=\"iphone 14 pro\"\n",
    "    def show_model(self):\n",
    "        print(\"Model of phone:\",self.model)\n",
    "     \n",
    "iphone=Mobile()\n",
    "iphone.show_model()\n",
    "\n",
    "        "
   ]
  },
  {
   "cell_type": "code",
   "execution_count": 21,
   "id": "ca660a1c",
   "metadata": {},
   "outputs": [
    {
     "name": "stdout",
     "output_type": "stream",
     "text": [
      "Phone Model: Iphone 14 and price is  1500\n",
      "Volume: 90\n"
     ]
    }
   ],
   "source": [
    "#constructor\n",
    "class Mobile:\n",
    "    #constructor with parameter\n",
    "    def __init__(self,m,v=90):\n",
    "        self.model=m\n",
    "        self.volume=v\n",
    "    \n",
    "    def show_model(self,p):\n",
    "        price= 1500              # local variable\n",
    "        print(\"Phone Model:\",self.model,\"and price is \", price)\n",
    "        print(\"Volume:\", self.volume)\n",
    "        \n",
    "#lets pass the argument to constructor \n",
    "iphone=Mobile(\"Iphone 14\")\n",
    "\n",
    "#Let's access the method from out of the class.\n",
    "iphone.show_model(1500)\n",
    "        "
   ]
  },
  {
   "cell_type": "code",
   "execution_count": 22,
   "id": "69be8a57",
   "metadata": {},
   "outputs": [
    {
     "name": "stdout",
     "output_type": "stream",
     "text": [
      "Phone Model: Iphone 14 and price is  1500\n",
      "Volume: 90\n",
      "\n",
      "Phone Model: Redmi 10s and price is  1500\n",
      "Volume: 60\n"
     ]
    }
   ],
   "source": [
    "#constructor\n",
    "class Mobile:\n",
    "    #constructor with parameter\n",
    "    def __init__(self,m,v=90):\n",
    "        self.model=m\n",
    "        self.volume=v\n",
    "    \n",
    "    def show_model(self,p):\n",
    "        price= 1500              # local variable\n",
    "        print(\"Phone Model:\",self.model,\"and price is \", price)\n",
    "        print(\"Volume:\", self.volume)\n",
    "        \n",
    "#lets pass the argument to constructor \n",
    "iphone=Mobile(\"Iphone 14\")\n",
    "\n",
    "#Let's access the method from out of the class.\n",
    "iphone.show_model(1500)\n",
    "print()\n",
    "\n",
    "# using the class for other object with diffrent parameter's value\n",
    "redmi = Mobile('Redmi 10s', 60)\n",
    "redmi.show_model(3000)"
   ]
  },
  {
   "cell_type": "code",
   "execution_count": null,
   "id": "a1800690",
   "metadata": {},
   "outputs": [],
   "source": []
  },
  {
   "cell_type": "code",
   "execution_count": null,
   "id": "62f5aa91",
   "metadata": {},
   "outputs": [],
   "source": []
  }
 ],
 "metadata": {
  "kernelspec": {
   "display_name": "Python 3 (ipykernel)",
   "language": "python",
   "name": "python3"
  },
  "language_info": {
   "codemirror_mode": {
    "name": "ipython",
    "version": 3
   },
   "file_extension": ".py",
   "mimetype": "text/x-python",
   "name": "python",
   "nbconvert_exporter": "python",
   "pygments_lexer": "ipython3",
   "version": "3.9.13"
  }
 },
 "nbformat": 4,
 "nbformat_minor": 5
}
